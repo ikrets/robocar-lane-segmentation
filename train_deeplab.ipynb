{
 "cells": [
  {
   "cell_type": "code",
   "execution_count": null,
   "metadata": {},
   "outputs": [],
   "source": [
    "%load_ext autoreload\n",
    "%autoreload 2\n",
    "\n",
    "import os\n",
    "os.sys.path += ['slim']\n",
    "\n",
    "import tensorflow as tf\n",
    "import slim.nets.mobilenet.mobilenet_v2 as mobilenet_v2\n",
    "import numpy as np\n",
    "import matplotlib.pyplot as plt\n",
    "\n",
    "from my_dataset import MyDataset\n",
    "from model import mobilenet_backbone, load_mobilenet_weights, segmentation_head"
   ]
  },
  {
   "cell_type": "markdown",
   "metadata": {},
   "source": [
    "## Option 1: birdeye images"
   ]
  },
  {
   "cell_type": "code",
   "execution_count": null,
   "metadata": {},
   "outputs": [],
   "source": [
    "shape = (30, 100)\n",
    "train_file = '/home/ilya/random steering/dataset-utils/trial_birdeye_train.tfrecord'\n",
    "val_file = '/home/ilya/random steering/dataset-utils/trial_birdeye_val.tfrecord'"
   ]
  },
  {
   "cell_type": "markdown",
   "metadata": {},
   "source": [
    "## Option 2: untransformed images"
   ]
  },
  {
   "cell_type": "code",
   "execution_count": null,
   "metadata": {},
   "outputs": [],
   "source": [
    "shape = (256, 640)\n",
    "train_file = '/home/ilya/random steering/dataset-utils/trial_train.tfrecord'\n",
    "val_file = '/home/ilya/random steering/dataset-utils/trial_val.tfrecord'"
   ]
  },
  {
   "cell_type": "markdown",
   "metadata": {},
   "source": [
    "## Load the filenames of the validation data."
   ]
  },
  {
   "cell_type": "code",
   "execution_count": null,
   "metadata": {},
   "outputs": [],
   "source": [
    "filenames = []\n",
    "sess = tf.Session()\n",
    "for record in tf.python_io.tf_record_iterator(val_file):\n",
    "    features = {\n",
    "        'image':\n",
    "            tf.io.FixedLenFeature((), tf.string, default_value=''),\n",
    "        'height':\n",
    "            tf.io.FixedLenFeature((), tf.int64, default_value=0),\n",
    "        'width':\n",
    "            tf.io.FixedLenFeature((), tf.int64, default_value=0),\n",
    "        'mask':\n",
    "            tf.io.FixedLenFeature((), tf.string, default_value=''),\n",
    "        'name':\n",
    "            tf.io.FixedLenFeature((), tf.string, default_value=''),\n",
    "    }\n",
    "\n",
    "    parsed_features = tf.io.parse_single_example(record, features)\n",
    "    filenames.append(sess.run(parsed_features['name']))\n",
    "\n",
    "filenames = [f.decode('ascii').replace('/', '_') for f in filenames]"
   ]
  },
  {
   "cell_type": "markdown",
   "metadata": {},
   "source": [
    "## Create the TFData input pipeline."
   ]
  },
  {
   "cell_type": "code",
   "execution_count": null,
   "metadata": {},
   "outputs": [],
   "source": [
    "tf.reset_default_graph()\n",
    "sess = tf.Session()\n",
    "\n",
    "train_dataset = MyDataset(filename=train_file,\n",
    "                              batch_size=1,\n",
    "                              shape=shape,\n",
    "                              num_readers=2,\n",
    "                              num_classes=2,\n",
    "                              is_training=True,\n",
    "                              should_shuffle=True,\n",
    "                              should_repeat=False,\n",
    "                              should_augment=False).get()\n",
    "\n",
    "val_dataset = MyDataset(filename=val_file,\n",
    "                       batch_size=1,\n",
    "                       shape=shape,\n",
    "                       num_readers=2,\n",
    "                       num_classes=2,\n",
    "                       is_training=True,\n",
    "                       should_shuffle=True,\n",
    "                       should_repeat=False,\n",
    "                       should_augment=False).get()\n",
    "\n",
    "train_iterator = train_dataset.make_initializable_iterator()\n",
    "validation_iterator = val_dataset.make_initializable_iterator()\n",
    "dataset_handle = tf.placeholder(tf.string, shape=[], name='dataset_handle')\n",
    "iterator = tf.data.Iterator.from_string_handle(dataset_handle, train_dataset.output_types,\n",
    "                                               train_dataset.output_shapes)\n",
    "samples = iterator.get_next()\n",
    "\n",
    "input_tensor = tf.reshape(samples[0], shape=(-1, shape[0], shape[1], 3))\n",
    "is_training = tf.placeholder(tf.bool)"
   ]
  },
  {
   "cell_type": "markdown",
   "metadata": {},
   "source": [
    "## Option 1: Training from scratch, create the model with pretrained Imagenet weights."
   ]
  },
  {
   "cell_type": "code",
   "execution_count": null,
   "metadata": {},
   "outputs": [],
   "source": [
    "net = mobilenet_backbone(input_tensor, 0.35, output_stride=2, is_training=True, weight_decay=0.00001)\n",
    "load_mobilenet_weights(sess, checkpoint='mobilenet_v2_0.35_224/mobilenet_v2_0.35_224.ckpt')\n",
    "net = segmentation_head(input_tensor, net, is_training=True, weight_decay=0.00001, dropout=0)\n",
    "\n",
    "head_variables = [t for t in tf.all_variables() if ('MobilenetV2' not in t.name or 'quant' in t.name)]"
   ]
  },
  {
   "cell_type": "markdown",
   "metadata": {},
   "source": [
    "## Option 2: Continuing training from a checkpoint with quantization aware training."
   ]
  },
  {
   "cell_type": "code",
   "execution_count": null,
   "metadata": {},
   "outputs": [],
   "source": [
    "net = mobilenet_backbone(input_tensor, 0.35, output_stride=2, is_training=True, weight_decay=0.00001)\n",
    "net = segmentation_head(input_tensor, net, is_training=True, weight_decay=0.00001, dropout=0)\n",
    "\n",
    "saver = tf.train.Saver(var_list=[t for t in tf.all_variables() if 'Conv_1' not in t.name and 'Logits' not in t.name])\n",
    "saver.restore(sess, 'checkpoints/train-checkpoint')\n",
    "\n",
    "g = tf.get_default_graph()\n",
    "tf.contrib.quantize.create_training_graph(input_graph=g,\n",
    "                                          quant_delay=0)\n",
    "head_variables = [t for t in tf.all_variables() if ('MobilenetV2' not in t.name or 'quant' in t.name)]"
   ]
  },
  {
   "cell_type": "markdown",
   "metadata": {},
   "source": [
    "## Set up the optimizer."
   ]
  },
  {
   "cell_type": "code",
   "execution_count": null,
   "metadata": {},
   "outputs": [],
   "source": [
    "loss = tf.reduce_mean(tf.nn.weighted_cross_entropy_with_logits(samples[1], net, \n",
    "                                                               pos_weight=20))\n",
    "loss = tf.add_n([loss] + [t for t in tf.losses.get_regularization_losses() if 'Conv_1' not in t.name and 'Logits' not in t.name])\n",
    "\n",
    "optimizer = tf.train.AdamOptimizer(learning_rate=0.001)\n",
    "train_op = optimizer.minimize(loss)"
   ]
  },
  {
   "cell_type": "markdown",
   "metadata": {},
   "source": [
    "## Initialize everything."
   ]
  },
  {
   "cell_type": "code",
   "execution_count": null,
   "metadata": {},
   "outputs": [],
   "source": [
    "labels = tf.argmax(samples[1], axis=-1)\n",
    "predictions = tf.argmax(tf.nn.softmax(net, axis=-1), axis=-1)\n",
    "\n",
    "train_miou, train_miou_update = tf.metrics.mean_iou(labels, predictions, num_classes=2)\n",
    "val_miou, val_miou_update = tf.metrics.mean_iou(labels, predictions, num_classes=2)\n",
    "\n",
    "if head_variables:\n",
    "    tf.variables_initializer(head_variables).run(session=sess)\n",
    "    \n",
    "tf.local_variables_initializer().run(session=sess)\n",
    "tf.variables_initializer(optimizer.variables()).run(session=sess)\n",
    "\n",
    "train_handle, validation_handle = sess.run([train_iterator.string_handle(), validation_iterator.string_handle()])\n",
    "sess.run(train_iterator.initializer)\n",
    "global_step = tf.train.get_global_step()"
   ]
  },
  {
   "cell_type": "markdown",
   "metadata": {},
   "source": [
    "## Train."
   ]
  },
  {
   "cell_type": "code",
   "execution_count": null,
   "metadata": {},
   "outputs": [],
   "source": [
    "show_images_every = 5\n",
    "\n",
    "for epoch in range(100):\n",
    "    try:\n",
    "        batch = 0\n",
    "        losses = []\n",
    "        while True:\n",
    "            _, t_loss, t_miou, _ = sess.run([train_op, loss, train_miou, train_miou_update], \n",
    "                                            {dataset_handle: train_handle, is_training: True})\n",
    "            losses.append(t_loss)\n",
    "            print('\\rEpoch: {}\\tBatch: {}\\tTrain loss: {:06.4f}\\tMiou: {:06.4f}'.format(epoch, batch, np.mean(losses), t_miou), end='')\n",
    "            batch += 1\n",
    "    except tf.errors.OutOfRangeError:\n",
    "        print('')\n",
    "        sess.run(validation_iterator.initializer)\n",
    "        try:\n",
    "            print('Epoch {}:'.format(epoch))\n",
    "            losses = []\n",
    "            while True:\n",
    "                v_loss, v_miou, _, img, label, pred = sess.run([loss, val_miou, val_miou_update, input_tensor, labels, predictions], \n",
    "                                             {dataset_handle: validation_handle, is_training: False})\n",
    "                losses.append(v_loss)\n",
    "                \n",
    "                if epoch % show_images_every != 0:\n",
    "                    continue\n",
    "                    \n",
    "                for i in range(img.shape[0]):\n",
    "                    _, axes = plt.subplots(1, 2, figsize=(15, 7))\n",
    "                    \n",
    "                    alpha = 0.2\n",
    "                    overlayed = (img[i].copy() + 1.) * 255. / 2.\n",
    "                    overlayed[label[i] == 1] = (alpha * np.array([0, 255, 0]) + (1 - alpha) * overlayed[label[i] == 1]).round()\n",
    "                    overlayed = overlayed.astype(np.uint8)\n",
    "                    axes[0].imshow(overlayed)\n",
    "                    \n",
    "                    overlayed = (img[i].copy() + 1.) * 255. / 2.\n",
    "                    overlayed[pred[i] == 1] = (alpha * np.array([0, 255, 0]) + (1 - alpha) * overlayed[pred[i] == 1]).round()\n",
    "                    overlayed = overlayed.astype(np.uint8)\n",
    "                    axes[1].imshow(overlayed)\n",
    "                    \n",
    "                    plt.suptitle(filenames[i])\n",
    "                    plt.show()\n",
    "        except tf.errors.OutOfRangeError:\n",
    "            sess.run(train_iterator.initializer)\n",
    "            print('Val loss: {:06.4f}\\tMiou: {:06.4f}'.format(np.mean(loss), v_miou), end='')\n",
    "            print('')"
   ]
  },
  {
   "cell_type": "markdown",
   "metadata": {},
   "source": [
    "## Saving the train checkpoint"
   ]
  },
  {
   "cell_type": "code",
   "execution_count": null,
   "metadata": {},
   "outputs": [],
   "source": [
    "to_save = [t for t in tf.all_variables() if ('Conv_1' not in t.name and 'Logits' not in t.name)]\n",
    "saver = tf.train.Saver(to_save)\n",
    "saver.save(sess, 'checkpoints/train-checkpoint')"
   ]
  },
  {
   "cell_type": "markdown",
   "metadata": {},
   "source": [
    "## Convert the train checkpoint to the eval checkpoint for TFLite (the model should have been trained with quantization)."
   ]
  },
  {
   "cell_type": "code",
   "execution_count": null,
   "metadata": {},
   "outputs": [],
   "source": [
    "tf.reset_default_graph()\n",
    "sess = tf.Session()\n",
    "input_tensor = tf.placeholder(tf.float32, (1, 256, 640, 3))\n",
    "net = mobilenet_backbone(input_tensor, 0.35, output_stride=8, weight_decay=0., is_training=False)\n",
    "net = segmentation_head(input_tensor, net, weight_decay=0., is_training=False, dropout=0)\n",
    "\n",
    "g = tf.get_default_graph()\n",
    "tf.contrib.quantize.create_eval_graph(input_graph=g)\n",
    "to_save = [t for t in tf.all_variables() if 'Conv_1' not in t.name and 'Logits' not in t.name]\n",
    "saver = tf.train.Saver(var_list=to_save)\n",
    "saver.restore(sess, 'checkpoints/train-checkpoint')\n",
    "\n",
    "with open('eval_graph.pb', 'w') as f:\n",
    "    f.write(str(g.as_graph_def()))\n",
    "# to_save = [t for t in tf.all_variables() if 'Conv_1' not in t.name and 'Logits' not in t.name]\n",
    "saver = tf.train.Saver(var_list=to_save)\n",
    "saver.save(sess, 'checkpoints/eval-checkpoint')"
   ]
  }
 ],
 "metadata": {
  "kernelspec": {
   "display_name": "Python 3",
   "language": "python",
   "name": "python3"
  },
  "language_info": {
   "codemirror_mode": {
    "name": "ipython",
    "version": 3
   },
   "file_extension": ".py",
   "mimetype": "text/x-python",
   "name": "python",
   "nbconvert_exporter": "python",
   "pygments_lexer": "ipython3",
   "version": "3.5.2"
  }
 },
 "nbformat": 4,
 "nbformat_minor": 2
}
